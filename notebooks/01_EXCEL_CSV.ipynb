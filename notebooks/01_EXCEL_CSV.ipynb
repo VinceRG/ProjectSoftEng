{
 "cells": [
  {
   "cell_type": "code",
   "execution_count": 92,
   "id": "974f7d87",
   "metadata": {},
   "outputs": [],
   "source": [
    "import os\n",
    "import pandas as pd\n",
    "import os\n",
    "import pandas as pd\n",
    "import re\n",
    "from openpyxl import load_workbook\n",
    "import sys\n",
    "\n",
    "# Paths\n",
    "input_folder = r\"D:\\TRAINING MODEL\\data\\excel_folder\"\n",
    "output_folder = r\"D:\\TRAINING MODEL\\data\\csv_folder\"\n",
    "log_file = r\"D:\\TRAINING MODEL\\logs\\converted_files.txt\"\n",
    "\n",
    "# Create output folder if it doesn't exist\n",
    "os.makedirs(output_folder, exist_ok=True)\n",
    "os.makedirs(os.path.dirname(log_file), exist_ok=True)\n"
   ]
  },
  {
   "cell_type": "code",
   "execution_count": 93,
   "id": "7c18092e",
   "metadata": {},
   "outputs": [],
   "source": [
    "if os.path.exists(log_file):\n",
    "    with open(log_file, \"r\") as f:\n",
    "        converted_files = f.read().splitlines()\n",
    "else:\n",
    "    converted_files = []"
   ]
  },
  {
   "cell_type": "code",
   "execution_count": 94,
   "id": "ade0ba9d",
   "metadata": {},
   "outputs": [
    {
     "name": "stdout",
     "output_type": "stream",
     "text": [
      "Converted TOP 10 LEADING JULY 2024.xlsx to TOP 10 LEADING JULY 2024.csv\n",
      "Processing complete. Already converted files were skipped.\n"
     ]
    }
   ],
   "source": [
    "# Loop through all Excel files\n",
    "for file_name in os.listdir(input_folder):\n",
    "    if file_name.endswith(\".xlsx\") and file_name not in converted_files:\n",
    "        file_path = os.path.join(input_folder, file_name)\n",
    "        df = pd.read_excel(file_path)\n",
    "\n",
    "        # Generate CSV file name\n",
    "        csv_file_name = file_name.replace(\".xlsx\", \".csv\")\n",
    "        csv_path = os.path.join(output_folder, csv_file_name)\n",
    "\n",
    "        # Save to CSV\n",
    "        df.to_csv(csv_path, index=False)\n",
    "        print(f\"Converted {file_name} to {csv_file_name}\")\n",
    "\n",
    "        # Add to log\n",
    "        with open(log_file, \"a\") as f:\n",
    "            f.write(file_name + \"\\n\")\n",
    "\n",
    "print(\"Processing complete. Already converted files were skipped.\")"
   ]
  }
 ],
 "metadata": {
  "kernelspec": {
   "display_name": "Python 3",
   "language": "python",
   "name": "python3"
  },
  "language_info": {
   "codemirror_mode": {
    "name": "ipython",
    "version": 3
   },
   "file_extension": ".py",
   "mimetype": "text/x-python",
   "name": "python",
   "nbconvert_exporter": "python",
   "pygments_lexer": "ipython3",
   "version": "3.12.10"
  }
 },
 "nbformat": 4,
 "nbformat_minor": 5
}
