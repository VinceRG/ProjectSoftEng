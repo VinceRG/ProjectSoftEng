{
 "cells": [
  {
   "cell_type": "code",
   "execution_count": 1,
   "id": "8ec4c78e",
   "metadata": {},
   "outputs": [],
   "source": [
    "import pandas as pd\n",
    "import os\n",
    "\n",
    "# Paths\n",
    "input_file = r\"D:\\TRAINING MODEL\\data\\processed\\copyFolder\"\n",
    "master_csv = os.path.join(input_file, \"master_dataset.csv\")\n",
    "logs_folder = r\"D:\\TRAINING MODEL\\logs\"\n",
    "dict_file = os.path.join(logs_folder, \"age_group_mapping.txt\")\n",
    "\n",
    "# Load\n",
    "df = pd.read_csv(master_csv)\n",
    "\n",
    "# Reshape to long format\n",
    "df_long = df.melt(\n",
    "    id_vars=[\"Month_year\", \"Consultation_Type\", \"Case\"],\n",
    "    var_name=\"Age_Sex\",\n",
    "    value_name=\"Count\"\n",
    ").dropna(subset=[\"Count\"])\n"
   ]
  },
  {
   "cell_type": "code",
   "execution_count": 2,
   "id": "b453d63a",
   "metadata": {},
   "outputs": [
    {
     "name": "stdout",
     "output_type": "stream",
     "text": [
      "✅ master_dataset.csv overwritten with long format\n",
      "✅ Age group dictionary saved at: D:\\TRAINING MODEL\\logs\\age_group_mapping.txt\n"
     ]
    }
   ],
   "source": [
    "# Split Age and Sex\n",
    "df_long[[\"Age_Group\", \"Sex\"]] = df_long[\"Age_Sex\"].str.rsplit(\" \", n=1, expand=True)\n",
    "\n",
    "# Age group mapping\n",
    "age_group_dict = {\n",
    "    \"Under 1\": \"0\",\n",
    "    \"1-4\": \"1-4\",\n",
    "    \"5-9\": \"5-9\",\n",
    "    \"10-14\": \"10-14\",\n",
    "    \"15-18\": \"15-18\",\n",
    "    \"19-24\": \"19-24\",\n",
    "    \"25-29\": \"25-29\",\n",
    "    \"30-34\": \"30-34\",\n",
    "    \"35-39\": \"35-39\",\n",
    "    \"40-44\": \"40-44\",\n",
    "    \"45-49\": \"45-49\",\n",
    "    \"50-54\": \"50-54\",\n",
    "    \"55-59\": \"55-59\",\n",
    "    \"60-64\": \"60-64\",\n",
    "    \"65-69\": \"65-69\",\n",
    "    \"70 Over\": \"70+\"\n",
    "}\n",
    "\n",
    "# Apply mapping\n",
    "df_long[\"Age_Group_Num\"] = df_long[\"Age_Group\"].map(age_group_dict)\n",
    "\n",
    "# Save dictionary to txt\n",
    "with open(dict_file, \"w\") as f:\n",
    "    for k, v in age_group_dict.items():\n",
    "        f.write(f\"{k}: {v}\\n\")\n",
    "\n",
    "# Overwrite the original CSV\n",
    "df_long.to_csv(master_csv, index=False)\n",
    "\n",
    "print(\"✅ master_dataset.csv overwritten with long format\")\n",
    "print(\"✅ Age group dictionary saved at:\", dict_file)"
   ]
  }
 ],
 "metadata": {
  "kernelspec": {
   "display_name": "Python 3",
   "language": "python",
   "name": "python3"
  },
  "language_info": {
   "codemirror_mode": {
    "name": "ipython",
    "version": 3
   },
   "file_extension": ".py",
   "mimetype": "text/x-python",
   "name": "python",
   "nbconvert_exporter": "python",
   "pygments_lexer": "ipython3",
   "version": "3.12.10"
  }
 },
 "nbformat": 4,
 "nbformat_minor": 5
}
